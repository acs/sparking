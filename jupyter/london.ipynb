{
 "cells": [
  {
   "cell_type": "code",
   "execution_count": 2,
   "metadata": {},
   "outputs": [],
   "source": [
    "import findspark\n",
    "findspark.init()"
   ]
  },
  {
   "cell_type": "code",
   "execution_count": 3,
   "metadata": {},
   "outputs": [],
   "source": [
    "from pyspark.sql import SparkSession"
   ]
  },
  {
   "cell_type": "code",
   "execution_count": 4,
   "metadata": {},
   "outputs": [],
   "source": [
    "spark = SparkSession.builder.appName(\"Lodon Crime dataset samples\")\\\n",
    "                    .getOrCreate()"
   ]
  },
  {
   "cell_type": "code",
   "execution_count": 5,
   "metadata": {},
   "outputs": [],
   "source": [
    "data = spark.read\\\n",
    "            .format(\"csv\")\\\n",
    "            .option(\"header\", \"true\")\\\n",
    "            .load(\"datasets/london_crime_by_lsoa-100k.csv\")"
   ]
  },
  {
   "cell_type": "code",
   "execution_count": 6,
   "metadata": {},
   "outputs": [
    {
     "name": "stdout",
     "output_type": "stream",
     "text": [
      "root\n",
      " |-- lsoa_code: string (nullable = true)\n",
      " |-- borough: string (nullable = true)\n",
      " |-- major_category: string (nullable = true)\n",
      " |-- minor_category: string (nullable = true)\n",
      " |-- value: string (nullable = true)\n",
      " |-- year: string (nullable = true)\n",
      " |-- month: string (nullable = true)\n",
      "\n"
     ]
    }
   ],
   "source": [
    "data.printSchema()"
   ]
  },
  {
   "cell_type": "code",
   "execution_count": 51,
   "metadata": {},
   "outputs": [],
   "source": [
    "# Clean the data frame to improve performance later\n",
    "data = data.dropna()\n",
    "data = data.drop(\"lsoa_code\")"
   ]
  },
  {
   "cell_type": "code",
   "execution_count": 52,
   "metadata": {},
   "outputs": [
    {
     "data": {
      "text/plain": [
       "99999"
      ]
     },
     "execution_count": 52,
     "metadata": {},
     "output_type": "execute_result"
    }
   ],
   "source": [
    "data.count()"
   ]
  },
  {
   "cell_type": "code",
   "execution_count": 8,
   "metadata": {},
   "outputs": [
    {
     "name": "stdout",
     "output_type": "stream",
     "text": [
      "+---------+----------+--------------------+--------------------+-----+----+-----+\n",
      "|lsoa_code|   borough|      major_category|      minor_category|value|year|month|\n",
      "+---------+----------+--------------------+--------------------+-----+----+-----+\n",
      "|E01001116|   Croydon|            Burglary|Burglary in Other...|    0|2016|   11|\n",
      "|E01001646| Greenwich|Violence Against ...|      Other violence|    0|2016|   11|\n",
      "|E01000677|   Bromley|Violence Against ...|      Other violence|    0|2015|    5|\n",
      "|E01003774| Redbridge|            Burglary|Burglary in Other...|    0|2016|    3|\n",
      "|E01004563|Wandsworth|             Robbery|   Personal Property|    0|2008|    6|\n",
      "+---------+----------+--------------------+--------------------+-----+----+-----+\n",
      "\n"
     ]
    }
   ],
   "source": [
    "data.limit(5).show()"
   ]
  },
  {
   "cell_type": "code",
   "execution_count": 9,
   "metadata": {},
   "outputs": [
    {
     "data": {
      "text/plain": [
       "33"
      ]
     },
     "execution_count": 9,
     "metadata": {},
     "output_type": "execute_result"
    }
   ],
   "source": [
    "data.select(\"borough\").distinct().count()"
   ]
  },
  {
   "cell_type": "code",
   "execution_count": 10,
   "metadata": {},
   "outputs": [
    {
     "name": "stdout",
     "output_type": "stream",
     "text": [
      "+---------+-------+--------------------+--------------------+-----+----+-----+\n",
      "|lsoa_code|borough|      major_category|      minor_category|value|year|month|\n",
      "+---------+-------+--------------------+--------------------+-----+----+-----+\n",
      "|E01001786|Hackney|     Criminal Damage|Criminal Damage T...|    0|2011|    6|\n",
      "|E01001794|Hackney|Violence Against ...|          Harassment|    1|2013|    2|\n",
      "|E01001787|Hackney|     Criminal Damage|Other Criminal Da...|    0|2011|    7|\n",
      "|E01001738|Hackney|Violence Against ...|        Wounding/GBH|    0|2013|   12|\n",
      "|E01001807|Hackney|  Theft and Handling|  Other Theft Person|    0|2016|    8|\n",
      "|E01001733|Hackney|            Burglary|Burglary in a Dwe...|    2|2008|    5|\n",
      "|E01001806|Hackney|             Robbery|   Business Property|    0|2016|    7|\n",
      "|E01001734|Hackney|  Theft and Handling|Theft/Taking of P...|    0|2009|   12|\n",
      "|E01001750|Hackney|               Drugs|    Drug Trafficking|    0|2014|    4|\n",
      "|E01001828|Hackney|  Theft and Handling|Handling Stolen G...|    0|2014|    6|\n",
      "|E01001785|Hackney|            Burglary|Burglary in Other...|    0|2008|   12|\n",
      "|E01033708|Hackney|Violence Against ...| Assault with Injury|    0|2010|    1|\n",
      "|E01001791|Hackney|  Theft and Handling|  Other Theft Person|    0|2008|    8|\n",
      "|E01001775|Hackney|Violence Against ...| Assault with Injury|    2|2015|    5|\n",
      "|E01001830|Hackney|  Theft and Handling|Theft/Taking Of M...|    0|2009|   12|\n",
      "|E01001839|Hackney|Violence Against ...|    Offensive Weapon|    0|2015|    9|\n",
      "|E01001786|Hackney|Violence Against ...|          Harassment|    2|2008|   10|\n",
      "|E01001846|Hackney|Violence Against ...|          Harassment|    0|2015|    3|\n",
      "|E01001746|Hackney|  Theft and Handling|  Other Theft Person|    1|2009|    5|\n",
      "|E01001776|Hackney|Other Notifiable ...|    Other Notifiable|    0|2008|    9|\n",
      "+---------+-------+--------------------+--------------------+-----+----+-----+\n",
      "only showing top 20 rows\n",
      "\n"
     ]
    }
   ],
   "source": [
    "data.filter(data[\"borough\"] == \"Hackney\").show()"
   ]
  },
  {
   "cell_type": "code",
   "execution_count": 12,
   "metadata": {},
   "outputs": [
    {
     "name": "stdout",
     "output_type": "stream",
     "text": [
      "+---------+---------+--------------------+--------------------+-----+----+-----+\n",
      "|lsoa_code|  borough|      major_category|      minor_category|value|year|month|\n",
      "+---------+---------+--------------------+--------------------+-----+----+-----+\n",
      "|E01001116|  Croydon|            Burglary|Burglary in Other...|    0|2016|   11|\n",
      "|E01001646|Greenwich|Violence Against ...|      Other violence|    0|2016|   11|\n",
      "|E01000677|  Bromley|Violence Against ...|      Other violence|    0|2015|    5|\n",
      "|E01003774|Redbridge|            Burglary|Burglary in Other...|    0|2016|    3|\n",
      "|E01004177|   Sutton|  Theft and Handling|Theft/Taking of P...|    1|2016|    8|\n",
      "+---------+---------+--------------------+--------------------+-----+----+-----+\n",
      "only showing top 5 rows\n",
      "\n"
     ]
    }
   ],
   "source": [
    "data.filter(data[\"year\"].isin([\"2015\", \"2016\"])).show(5)"
   ]
  },
  {
   "cell_type": "code",
   "execution_count": 13,
   "metadata": {},
   "outputs": [
    {
     "data": {
      "text/plain": [
       "15"
      ]
     },
     "execution_count": 13,
     "metadata": {},
     "output_type": "execute_result"
    }
   ],
   "source": [
    "data.filter(data[\"year\"].isin([\"2015\", \"2016\"])).sample(fraction=0.001).count()"
   ]
  },
  {
   "cell_type": "code",
   "execution_count": 14,
   "metadata": {},
   "outputs": [
    {
     "name": "stdout",
     "output_type": "stream",
     "text": [
      "+---------+---------+--------------------+--------------------+-----+----+-----+\n",
      "|lsoa_code|  borough|      major_category|      minor_category|value|year|month|\n",
      "+---------+---------+--------------------+--------------------+-----+----+-----+\n",
      "|E01001116|  Croydon|            Burglary|Burglary in Other...|    0|2016|   11|\n",
      "|E01001646|Greenwich|Violence Against ...|      Other violence|    0|2016|   11|\n",
      "|E01000677|  Bromley|Violence Against ...|      Other violence|    0|2015|    5|\n",
      "|E01003774|Redbridge|            Burglary|Burglary in Other...|    0|2016|    3|\n",
      "|E01004177|   Sutton|  Theft and Handling|Theft/Taking of P...|    1|2016|    8|\n",
      "+---------+---------+--------------------+--------------------+-----+----+-----+\n",
      "only showing top 5 rows\n",
      "\n"
     ]
    }
   ],
   "source": [
    "data.filter(data[\"year\"] >= 2014).show(5)"
   ]
  },
  {
   "cell_type": "code",
   "execution_count": 15,
   "metadata": {},
   "outputs": [
    {
     "name": "stdout",
     "output_type": "stream",
     "text": [
      "+---------+-------+--------------+--------------+-----+----+-----+\n",
      "|lsoa_code|borough|major_category|minor_category|value|year|month|\n",
      "+---------+-------+--------------+--------------+-----+----+-----+\n",
      "+---------+-------+--------------+--------------+-----+----+-----+\n",
      "\n"
     ]
    }
   ],
   "source": [
    "data.filter(data[\"year\"] >= 2018).show(5)"
   ]
  },
  {
   "cell_type": "code",
   "execution_count": 16,
   "metadata": {},
   "outputs": [
    {
     "data": {
      "text/plain": [
       "33"
      ]
     },
     "execution_count": 16,
     "metadata": {},
     "output_type": "execute_result"
    }
   ],
   "source": [
    "data.groupBy(\"borough\").count().count()"
   ]
  },
  {
   "cell_type": "code",
   "execution_count": 18,
   "metadata": {},
   "outputs": [
    {
     "name": "stdout",
     "output_type": "stream",
     "text": [
      "+--------------------+-----+\n",
      "|             borough|count|\n",
      "+--------------------+-----+\n",
      "|             Croydon| 4344|\n",
      "|          Wandsworth| 3789|\n",
      "|              Bexley| 2832|\n",
      "|             Lambeth| 3841|\n",
      "|Barking and Dagenham| 2396|\n",
      "+--------------------+-----+\n",
      "only showing top 5 rows\n",
      "\n"
     ]
    }
   ],
   "source": [
    "data.groupBy(\"borough\").count().show(5)"
   ]
  },
  {
   "cell_type": "code",
   "execution_count": 22,
   "metadata": {},
   "outputs": [
    {
     "name": "stdout",
     "output_type": "stream",
     "text": [
      "+--------------------+-----+\n",
      "|             borough|count|\n",
      "+--------------------+-----+\n",
      "|             Croydon| 4344|\n",
      "|          Wandsworth| 3789|\n",
      "|              Bexley| 2832|\n",
      "|             Lambeth| 3841|\n",
      "|Barking and Dagenham| 2396|\n",
      "+--------------------+-----+\n",
      "only showing top 5 rows\n",
      "\n"
     ]
    }
   ],
   "source": [
    "data.groupBy(\"borough\").count().show(5)"
   ]
  },
  {
   "cell_type": "code",
   "execution_count": 24,
   "metadata": {},
   "outputs": [
    {
     "name": "stdout",
     "output_type": "stream",
     "text": [
      "+--------------------+----------+\n",
      "|             borough|sum(value)|\n",
      "+--------------------+----------+\n",
      "|             Croydon|    2062.0|\n",
      "|          Wandsworth|    1711.0|\n",
      "|              Bexley|     880.0|\n",
      "|             Lambeth|    2164.0|\n",
      "|Barking and Dagenham|    1109.0|\n",
      "+--------------------+----------+\n",
      "only showing top 5 rows\n",
      "\n"
     ]
    }
   ],
   "source": [
    "data.groupBy(\"borough\").agg({\"value\":\"sum\"}).show(5)"
   ]
  },
  {
   "cell_type": "code",
   "execution_count": 26,
   "metadata": {},
   "outputs": [
    {
     "name": "stdout",
     "output_type": "stream",
     "text": [
      "+---------------+\n",
      "|sum(sum(value))|\n",
      "+---------------+\n",
      "|        47721.0|\n",
      "+---------------+\n",
      "\n"
     ]
    }
   ],
   "source": [
    "data.groupBy(\"borough\").agg({\"value\":\"sum\"}).agg({\"sum(value)\":\"sum\"}).show()"
   ]
  },
  {
   "cell_type": "code",
   "execution_count": 27,
   "metadata": {},
   "outputs": [
    {
     "name": "stdout",
     "output_type": "stream",
     "text": [
      "+--------------------+-----------+\n",
      "|             borough|convictions|\n",
      "+--------------------+-----------+\n",
      "|             Croydon|     2062.0|\n",
      "|          Wandsworth|     1711.0|\n",
      "|              Bexley|      880.0|\n",
      "|             Lambeth|     2164.0|\n",
      "|Barking and Dagenham|     1109.0|\n",
      "+--------------------+-----------+\n",
      "only showing top 5 rows\n",
      "\n"
     ]
    }
   ],
   "source": [
    "data.groupBy(\"borough\").agg({\"value\":\"sum\"}).withColumnRenamed(\"sum(value)\", \"convictions\").show(5)"
   ]
  },
  {
   "cell_type": "code",
   "execution_count": 30,
   "metadata": {},
   "outputs": [
    {
     "name": "stdout",
     "output_type": "stream",
     "text": [
      "+--------------------+-----------+\n",
      "|             borough|convictions|\n",
      "+--------------------+-----------+\n",
      "|             Croydon|     2062.0|\n",
      "|          Wandsworth|     1711.0|\n",
      "|              Bexley|      880.0|\n",
      "|             Lambeth|     2164.0|\n",
      "|Barking and Dagenham|     1109.0|\n",
      "+--------------------+-----------+\n",
      "only showing top 5 rows\n",
      "\n"
     ]
    }
   ],
   "source": [
    "data.groupBy(\"borough\").agg({\"value\":\"sum\"}).withColumnRenamed(\"sum(value)\", \"convictions\").show(5)"
   ]
  },
  {
   "cell_type": "code",
   "execution_count": 48,
   "metadata": {},
   "outputs": [
    {
     "data": {
      "text/plain": [
       "DataFrame[sum(convictions): double]"
      ]
     },
     "execution_count": 48,
     "metadata": {},
     "output_type": "execute_result"
    }
   ],
   "source": [
    "data.groupBy(\"borough\").agg({\"value\":\"sum\"}).withColumnRenamed(\"sum(value)\", \"convictions\").agg({\"convictions\":\"sum\"})"
   ]
  },
  {
   "cell_type": "code",
   "execution_count": 32,
   "metadata": {},
   "outputs": [
    {
     "data": {
      "text/plain": [
       "DataFrame[borough: string, convictions: double]"
      ]
     },
     "execution_count": 32,
     "metadata": {},
     "output_type": "execute_result"
    }
   ],
   "source": [
    "data.groupBy(\"borough\").agg({\"value\":\"sum\"}).withColumnRenamed(\"sum(value)\", \"convictions\")"
   ]
  },
  {
   "cell_type": "code",
   "execution_count": 33,
   "metadata": {},
   "outputs": [],
   "source": [
    "borough_convictions = data.groupBy(\"borough\").agg({\"value\":\"sum\"}).withColumnRenamed(\"sum(value)\", \"convictions\")"
   ]
  },
  {
   "cell_type": "code",
   "execution_count": 47,
   "metadata": {
    "scrolled": true
   },
   "outputs": [
    {
     "name": "stdout",
     "output_type": "stream",
     "text": [
      "+----------------+\n",
      "|sum(convictions)|\n",
      "+----------------+\n",
      "|         47721.0|\n",
      "+----------------+\n",
      "\n"
     ]
    }
   ],
   "source": [
    "borough_convictions.agg({\"convictions\":\"sum\"}).show()"
   ]
  },
  {
   "cell_type": "code",
   "execution_count": 49,
   "metadata": {},
   "outputs": [
    {
     "data": {
      "text/plain": [
       "47721.0"
      ]
     },
     "execution_count": 49,
     "metadata": {},
     "output_type": "execute_result"
    }
   ],
   "source": [
    "borough_convictions.agg({\"convictions\":\"sum\"}).collect()[0][0]"
   ]
  },
  {
   "cell_type": "code",
   "execution_count": 35,
   "metadata": {},
   "outputs": [
    {
     "name": "stdout",
     "output_type": "stream",
     "text": [
      "+--------------------+-----------+\n",
      "|             borough|convictions|\n",
      "+--------------------+-----------+\n",
      "|             Croydon|     2062.0|\n",
      "|          Wandsworth|     1711.0|\n",
      "|              Bexley|      880.0|\n",
      "|             Lambeth|     2164.0|\n",
      "|Barking and Dagenham|     1109.0|\n",
      "+--------------------+-----------+\n",
      "only showing top 5 rows\n",
      "\n"
     ]
    }
   ],
   "source": [
    "borough_convictions.show(5)"
   ]
  },
  {
   "cell_type": "code",
   "execution_count": 36,
   "metadata": {},
   "outputs": [
    {
     "data": {
      "text/plain": [
       "['borough', 'convictions']"
      ]
     },
     "execution_count": 36,
     "metadata": {},
     "output_type": "execute_result"
    }
   ],
   "source": [
    "borough_convictions.columns"
   ]
  },
  {
   "cell_type": "code",
   "execution_count": 37,
   "metadata": {},
   "outputs": [
    {
     "data": {
      "text/plain": [
       "'Croydon'"
      ]
     },
     "execution_count": 37,
     "metadata": {},
     "output_type": "execute_result"
    }
   ],
   "source": [
    "borough_convictions.collect()[0][0]"
   ]
  },
  {
   "cell_type": "code",
   "execution_count": 38,
   "metadata": {},
   "outputs": [
    {
     "data": {
      "text/plain": [
       "1109.0"
      ]
     },
     "execution_count": 38,
     "metadata": {},
     "output_type": "execute_result"
    }
   ],
   "source": [
    "borough_convictions.collect()[4][1]"
   ]
  },
  {
   "cell_type": "code",
   "execution_count": 45,
   "metadata": {},
   "outputs": [
    {
     "data": {
      "text/plain": [
       "DataFrame[sum(value): double]"
      ]
     },
     "execution_count": 45,
     "metadata": {},
     "output_type": "execute_result"
    }
   ],
   "source": [
    "data.agg({\"value\":\"sum\"})"
   ]
  },
  {
   "cell_type": "code",
   "execution_count": null,
   "metadata": {},
   "outputs": [],
   "source": []
  }
 ],
 "metadata": {
  "kernelspec": {
   "display_name": "Python 3",
   "language": "python",
   "name": "python3"
  },
  "language_info": {
   "codemirror_mode": {
    "name": "ipython",
    "version": 3
   },
   "file_extension": ".py",
   "mimetype": "text/x-python",
   "name": "python",
   "nbconvert_exporter": "python",
   "pygments_lexer": "ipython3",
   "version": "3.5.3"
  }
 },
 "nbformat": 4,
 "nbformat_minor": 2
}
