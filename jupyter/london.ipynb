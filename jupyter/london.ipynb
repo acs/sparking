{
 "cells": [
  {
   "cell_type": "code",
   "execution_count": 2,
   "metadata": {},
   "outputs": [],
   "source": [
    "import findspark\n",
    "findspark.init()"
   ]
  },
  {
   "cell_type": "code",
   "execution_count": 3,
   "metadata": {},
   "outputs": [],
   "source": [
    "from pyspark.sql import SparkSession"
   ]
  },
  {
   "cell_type": "code",
   "execution_count": 4,
   "metadata": {},
   "outputs": [],
   "source": [
    "spark = SparkSession.builder.appName(\"Lodon Crime dataset samples\")\\\n",
    "                    .getOrCreate()"
   ]
  },
  {
   "cell_type": "code",
   "execution_count": 5,
   "metadata": {},
   "outputs": [],
   "source": [
    "data = spark.read\\\n",
    "            .format(\"csv\")\\\n",
    "            .option(\"header\", \"true\")\\\n",
    "            .load(\"datasets/london_crime_by_lsoa-100k.csv\")"
   ]
  },
  {
   "cell_type": "code",
   "execution_count": 6,
   "metadata": {},
   "outputs": [
    {
     "name": "stdout",
     "output_type": "stream",
     "text": [
      "root\n",
      " |-- lsoa_code: string (nullable = true)\n",
      " |-- borough: string (nullable = true)\n",
      " |-- major_category: string (nullable = true)\n",
      " |-- minor_category: string (nullable = true)\n",
      " |-- value: string (nullable = true)\n",
      " |-- year: string (nullable = true)\n",
      " |-- month: string (nullable = true)\n",
      "\n"
     ]
    }
   ],
   "source": [
    "data.printSchema()"
   ]
  },
  {
   "cell_type": "code",
   "execution_count": 51,
   "metadata": {},
   "outputs": [],
   "source": [
    "# Clean the data frame to improve performance later\n",
    "data = data.dropna()\n",
    "data = data.drop(\"lsoa_code\")"
   ]
  },
  {
   "cell_type": "code",
   "execution_count": 52,
   "metadata": {},
   "outputs": [
    {
     "data": {
      "text/plain": [
       "99999"
      ]
     },
     "execution_count": 52,
     "metadata": {},
     "output_type": "execute_result"
    }
   ],
   "source": [
    "data.count()"
   ]
  },
  {
   "cell_type": "code",
   "execution_count": 8,
   "metadata": {},
   "outputs": [
    {
     "name": "stdout",
     "output_type": "stream",
     "text": [
      "+---------+----------+--------------------+--------------------+-----+----+-----+\n",
      "|lsoa_code|   borough|      major_category|      minor_category|value|year|month|\n",
      "+---------+----------+--------------------+--------------------+-----+----+-----+\n",
      "|E01001116|   Croydon|            Burglary|Burglary in Other...|    0|2016|   11|\n",
      "|E01001646| Greenwich|Violence Against ...|      Other violence|    0|2016|   11|\n",
      "|E01000677|   Bromley|Violence Against ...|      Other violence|    0|2015|    5|\n",
      "|E01003774| Redbridge|            Burglary|Burglary in Other...|    0|2016|    3|\n",
      "|E01004563|Wandsworth|             Robbery|   Personal Property|    0|2008|    6|\n",
      "+---------+----------+--------------------+--------------------+-----+----+-----+\n",
      "\n"
     ]
    }
   ],
   "source": [
    "data.limit(5).show()"
   ]
  },
  {
   "cell_type": "code",
   "execution_count": 9,
   "metadata": {},
   "outputs": [
    {
     "data": {
      "text/plain": [
       "33"
      ]
     },
     "execution_count": 9,
     "metadata": {},
     "output_type": "execute_result"
    }
   ],
   "source": [
    "data.select(\"borough\").distinct().count()"
   ]
  },
  {
   "cell_type": "code",
   "execution_count": 10,
   "metadata": {},
   "outputs": [
    {
     "name": "stdout",
     "output_type": "stream",
     "text": [
      "+---------+-------+--------------------+--------------------+-----+----+-----+\n",
      "|lsoa_code|borough|      major_category|      minor_category|value|year|month|\n",
      "+---------+-------+--------------------+--------------------+-----+----+-----+\n",
      "|E01001786|Hackney|     Criminal Damage|Criminal Damage T...|    0|2011|    6|\n",
      "|E01001794|Hackney|Violence Against ...|          Harassment|    1|2013|    2|\n",
      "|E01001787|Hackney|     Criminal Damage|Other Criminal Da...|    0|2011|    7|\n",
      "|E01001738|Hackney|Violence Against ...|        Wounding/GBH|    0|2013|   12|\n",
      "|E01001807|Hackney|  Theft and Handling|  Other Theft Person|    0|2016|    8|\n",
      "|E01001733|Hackney|            Burglary|Burglary in a Dwe...|    2|2008|    5|\n",
      "|E01001806|Hackney|             Robbery|   Business Property|    0|2016|    7|\n",
      "|E01001734|Hackney|  Theft and Handling|Theft/Taking of P...|    0|2009|   12|\n",
      "|E01001750|Hackney|               Drugs|    Drug Trafficking|    0|2014|    4|\n",
      "|E01001828|Hackney|  Theft and Handling|Handling Stolen G...|    0|2014|    6|\n",
      "|E01001785|Hackney|            Burglary|Burglary in Other...|    0|2008|   12|\n",
      "|E01033708|Hackney|Violence Against ...| Assault with Injury|    0|2010|    1|\n",
      "|E01001791|Hackney|  Theft and Handling|  Other Theft Person|    0|2008|    8|\n",
      "|E01001775|Hackney|Violence Against ...| Assault with Injury|    2|2015|    5|\n",
      "|E01001830|Hackney|  Theft and Handling|Theft/Taking Of M...|    0|2009|   12|\n",
      "|E01001839|Hackney|Violence Against ...|    Offensive Weapon|    0|2015|    9|\n",
      "|E01001786|Hackney|Violence Against ...|          Harassment|    2|2008|   10|\n",
      "|E01001846|Hackney|Violence Against ...|          Harassment|    0|2015|    3|\n",
      "|E01001746|Hackney|  Theft and Handling|  Other Theft Person|    1|2009|    5|\n",
      "|E01001776|Hackney|Other Notifiable ...|    Other Notifiable|    0|2008|    9|\n",
      "+---------+-------+--------------------+--------------------+-----+----+-----+\n",
      "only showing top 20 rows\n",
      "\n"
     ]
    }
   ],
   "source": [
    "data.filter(data[\"borough\"] == \"Hackney\").show()"
   ]
  },
  {
   "cell_type": "code",
   "execution_count": 12,
   "metadata": {},
   "outputs": [
    {
     "name": "stdout",
     "output_type": "stream",
     "text": [
      "+---------+---------+--------------------+--------------------+-----+----+-----+\n",
      "|lsoa_code|  borough|      major_category|      minor_category|value|year|month|\n",
      "+---------+---------+--------------------+--------------------+-----+----+-----+\n",
      "|E01001116|  Croydon|            Burglary|Burglary in Other...|    0|2016|   11|\n",
      "|E01001646|Greenwich|Violence Against ...|      Other violence|    0|2016|   11|\n",
      "|E01000677|  Bromley|Violence Against ...|      Other violence|    0|2015|    5|\n",
      "|E01003774|Redbridge|            Burglary|Burglary in Other...|    0|2016|    3|\n",
      "|E01004177|   Sutton|  Theft and Handling|Theft/Taking of P...|    1|2016|    8|\n",
      "+---------+---------+--------------------+--------------------+-----+----+-----+\n",
      "only showing top 5 rows\n",
      "\n"
     ]
    }
   ],
   "source": [
    "data.filter(data[\"year\"].isin([\"2015\", \"2016\"])).show(5)"
   ]
  },
  {
   "cell_type": "code",
   "execution_count": 13,
   "metadata": {},
   "outputs": [
    {
     "data": {
      "text/plain": [
       "15"
      ]
     },
     "execution_count": 13,
     "metadata": {},
     "output_type": "execute_result"
    }
   ],
   "source": [
    "data.filter(data[\"year\"].isin([\"2015\", \"2016\"])).sample(fraction=0.001).count()"
   ]
  },
  {
   "cell_type": "code",
   "execution_count": 14,
   "metadata": {},
   "outputs": [
    {
     "name": "stdout",
     "output_type": "stream",
     "text": [
      "+---------+---------+--------------------+--------------------+-----+----+-----+\n",
      "|lsoa_code|  borough|      major_category|      minor_category|value|year|month|\n",
      "+---------+---------+--------------------+--------------------+-----+----+-----+\n",
      "|E01001116|  Croydon|            Burglary|Burglary in Other...|    0|2016|   11|\n",
      "|E01001646|Greenwich|Violence Against ...|      Other violence|    0|2016|   11|\n",
      "|E01000677|  Bromley|Violence Against ...|      Other violence|    0|2015|    5|\n",
      "|E01003774|Redbridge|            Burglary|Burglary in Other...|    0|2016|    3|\n",
      "|E01004177|   Sutton|  Theft and Handling|Theft/Taking of P...|    1|2016|    8|\n",
      "+---------+---------+--------------------+--------------------+-----+----+-----+\n",
      "only showing top 5 rows\n",
      "\n"
     ]
    }
   ],
   "source": [
    "data.filter(data[\"year\"] >= 2014).show(5)"
   ]
  },
  {
   "cell_type": "code",
   "execution_count": 15,
   "metadata": {},
   "outputs": [
    {
     "name": "stdout",
     "output_type": "stream",
     "text": [
      "+---------+-------+--------------+--------------+-----+----+-----+\n",
      "|lsoa_code|borough|major_category|minor_category|value|year|month|\n",
      "+---------+-------+--------------+--------------+-----+----+-----+\n",
      "+---------+-------+--------------+--------------+-----+----+-----+\n",
      "\n"
     ]
    }
   ],
   "source": [
    "data.filter(data[\"year\"] >= 2018).show(5)"
   ]
  },
  {
   "cell_type": "code",
   "execution_count": 16,
   "metadata": {},
   "outputs": [
    {
     "data": {
      "text/plain": [
       "33"
      ]
     },
     "execution_count": 16,
     "metadata": {},
     "output_type": "execute_result"
    }
   ],
   "source": [
    "data.groupBy(\"borough\").count().count()"
   ]
  },
  {
   "cell_type": "code",
   "execution_count": 18,
   "metadata": {},
   "outputs": [
    {
     "name": "stdout",
     "output_type": "stream",
     "text": [
      "+--------------------+-----+\n",
      "|             borough|count|\n",
      "+--------------------+-----+\n",
      "|             Croydon| 4344|\n",
      "|          Wandsworth| 3789|\n",
      "|              Bexley| 2832|\n",
      "|             Lambeth| 3841|\n",
      "|Barking and Dagenham| 2396|\n",
      "+--------------------+-----+\n",
      "only showing top 5 rows\n",
      "\n"
     ]
    }
   ],
   "source": [
    "data.groupBy(\"borough\").count().show(5)"
   ]
  },
  {
   "cell_type": "code",
   "execution_count": 22,
   "metadata": {},
   "outputs": [
    {
     "name": "stdout",
     "output_type": "stream",
     "text": [
      "+--------------------+-----+\n",
      "|             borough|count|\n",
      "+--------------------+-----+\n",
      "|             Croydon| 4344|\n",
      "|          Wandsworth| 3789|\n",
      "|              Bexley| 2832|\n",
      "|             Lambeth| 3841|\n",
      "|Barking and Dagenham| 2396|\n",
      "+--------------------+-----+\n",
      "only showing top 5 rows\n",
      "\n"
     ]
    }
   ],
   "source": [
    "data.groupBy(\"borough\").count().show(5)"
   ]
  },
  {
   "cell_type": "code",
   "execution_count": 24,
   "metadata": {},
   "outputs": [
    {
     "name": "stdout",
     "output_type": "stream",
     "text": [
      "+--------------------+----------+\n",
      "|             borough|sum(value)|\n",
      "+--------------------+----------+\n",
      "|             Croydon|    2062.0|\n",
      "|          Wandsworth|    1711.0|\n",
      "|              Bexley|     880.0|\n",
      "|             Lambeth|    2164.0|\n",
      "|Barking and Dagenham|    1109.0|\n",
      "+--------------------+----------+\n",
      "only showing top 5 rows\n",
      "\n"
     ]
    }
   ],
   "source": [
    "data.groupBy(\"borough\").agg({\"value\":\"sum\"}).show(5)"
   ]
  },
  {
   "cell_type": "code",
   "execution_count": 26,
   "metadata": {},
   "outputs": [
    {
     "name": "stdout",
     "output_type": "stream",
     "text": [
      "+---------------+\n",
      "|sum(sum(value))|\n",
      "+---------------+\n",
      "|        47721.0|\n",
      "+---------------+\n",
      "\n"
     ]
    }
   ],
   "source": [
    "data.groupBy(\"borough\").agg({\"value\":\"sum\"}).agg({\"sum(value)\":\"sum\"}).show()"
   ]
  },
  {
   "cell_type": "code",
   "execution_count": 27,
   "metadata": {},
   "outputs": [
    {
     "name": "stdout",
     "output_type": "stream",
     "text": [
      "+--------------------+-----------+\n",
      "|             borough|convictions|\n",
      "+--------------------+-----------+\n",
      "|             Croydon|     2062.0|\n",
      "|          Wandsworth|     1711.0|\n",
      "|              Bexley|      880.0|\n",
      "|             Lambeth|     2164.0|\n",
      "|Barking and Dagenham|     1109.0|\n",
      "+--------------------+-----------+\n",
      "only showing top 5 rows\n",
      "\n"
     ]
    }
   ],
   "source": [
    "data.groupBy(\"borough\").agg({\"value\":\"sum\"}).withColumnRenamed(\"sum(value)\", \"convictions\").show(5)"
   ]
  },
  {
   "cell_type": "code",
   "execution_count": 30,
   "metadata": {},
   "outputs": [
    {
     "name": "stdout",
     "output_type": "stream",
     "text": [
      "+--------------------+-----------+\n",
      "|             borough|convictions|\n",
      "+--------------------+-----------+\n",
      "|             Croydon|     2062.0|\n",
      "|          Wandsworth|     1711.0|\n",
      "|              Bexley|      880.0|\n",
      "|             Lambeth|     2164.0|\n",
      "|Barking and Dagenham|     1109.0|\n",
      "+--------------------+-----------+\n",
      "only showing top 5 rows\n",
      "\n"
     ]
    }
   ],
   "source": [
    "data.groupBy(\"borough\").agg({\"value\":\"sum\"}).withColumnRenamed(\"sum(value)\", \"convictions\").show(5)"
   ]
  },
  {
   "cell_type": "code",
   "execution_count": 48,
   "metadata": {},
   "outputs": [
    {
     "data": {
      "text/plain": [
       "DataFrame[sum(convictions): double]"
      ]
     },
     "execution_count": 48,
     "metadata": {},
     "output_type": "execute_result"
    }
   ],
   "source": [
    "data.groupBy(\"borough\").agg({\"value\":\"sum\"}).withColumnRenamed(\"sum(value)\", \"convictions\").agg({\"convictions\":\"sum\"})"
   ]
  },
  {
   "cell_type": "code",
   "execution_count": 32,
   "metadata": {},
   "outputs": [
    {
     "data": {
      "text/plain": [
       "DataFrame[borough: string, convictions: double]"
      ]
     },
     "execution_count": 32,
     "metadata": {},
     "output_type": "execute_result"
    }
   ],
   "source": [
    "data.groupBy(\"borough\").agg({\"value\":\"sum\"}).withColumnRenamed(\"sum(value)\", \"convictions\")"
   ]
  },
  {
   "cell_type": "code",
   "execution_count": 33,
   "metadata": {},
   "outputs": [],
   "source": [
    "borough_convictions = data.groupBy(\"borough\").agg({\"value\":\"sum\"}).withColumnRenamed(\"sum(value)\", \"convictions\")"
   ]
  },
  {
   "cell_type": "code",
   "execution_count": 47,
   "metadata": {
    "scrolled": true
   },
   "outputs": [
    {
     "name": "stdout",
     "output_type": "stream",
     "text": [
      "+----------------+\n",
      "|sum(convictions)|\n",
      "+----------------+\n",
      "|         47721.0|\n",
      "+----------------+\n",
      "\n"
     ]
    }
   ],
   "source": [
    "borough_convictions.agg({\"convictions\":\"sum\"}).show()"
   ]
  },
  {
   "cell_type": "code",
   "execution_count": 54,
   "metadata": {},
   "outputs": [],
   "source": [
    "total_convictions = borough_convictions.agg({\"convictions\":\"sum\"}).collect()[0][0]"
   ]
  },
  {
   "cell_type": "code",
   "execution_count": 35,
   "metadata": {},
   "outputs": [
    {
     "name": "stdout",
     "output_type": "stream",
     "text": [
      "+--------------------+-----------+\n",
      "|             borough|convictions|\n",
      "+--------------------+-----------+\n",
      "|             Croydon|     2062.0|\n",
      "|          Wandsworth|     1711.0|\n",
      "|              Bexley|      880.0|\n",
      "|             Lambeth|     2164.0|\n",
      "|Barking and Dagenham|     1109.0|\n",
      "+--------------------+-----------+\n",
      "only showing top 5 rows\n",
      "\n"
     ]
    }
   ],
   "source": [
    "borough_convictions.show(5)"
   ]
  },
  {
   "cell_type": "code",
   "execution_count": 36,
   "metadata": {},
   "outputs": [
    {
     "data": {
      "text/plain": [
       "['borough', 'convictions']"
      ]
     },
     "execution_count": 36,
     "metadata": {},
     "output_type": "execute_result"
    }
   ],
   "source": [
    "borough_convictions.columns"
   ]
  },
  {
   "cell_type": "code",
   "execution_count": 37,
   "metadata": {},
   "outputs": [
    {
     "data": {
      "text/plain": [
       "'Croydon'"
      ]
     },
     "execution_count": 37,
     "metadata": {},
     "output_type": "execute_result"
    }
   ],
   "source": [
    "borough_convictions.collect()[0][0]"
   ]
  },
  {
   "cell_type": "code",
   "execution_count": 38,
   "metadata": {},
   "outputs": [
    {
     "data": {
      "text/plain": [
       "1109.0"
      ]
     },
     "execution_count": 38,
     "metadata": {},
     "output_type": "execute_result"
    }
   ],
   "source": [
    "borough_convictions.collect()[4][1]"
   ]
  },
  {
   "cell_type": "code",
   "execution_count": 45,
   "metadata": {},
   "outputs": [
    {
     "data": {
      "text/plain": [
       "DataFrame[sum(value): double]"
      ]
     },
     "execution_count": 45,
     "metadata": {},
     "output_type": "execute_result"
    }
   ],
   "source": [
    "data.agg({\"value\":\"sum\"})"
   ]
  },
  {
   "cell_type": "code",
   "execution_count": 53,
   "metadata": {},
   "outputs": [],
   "source": [
    "import pyspark.sql.functions as func\n"
   ]
  },
  {
   "cell_type": "code",
   "execution_count": 55,
   "metadata": {},
   "outputs": [],
   "source": [
    "borough_percentage_contribution = borough_convictions.withColumn(\"% contrib\", func.round(borough_convictions.convictions/total_convictions * 100, 2))"
   ]
  },
  {
   "cell_type": "code",
   "execution_count": 56,
   "metadata": {},
   "outputs": [
    {
     "name": "stdout",
     "output_type": "stream",
     "text": [
      "+--------------------+-----------+---------+\n",
      "|             borough|convictions|% contrib|\n",
      "+--------------------+-----------+---------+\n",
      "|             Croydon|     2062.0|     4.32|\n",
      "|          Wandsworth|     1711.0|     3.59|\n",
      "|              Bexley|      880.0|     1.84|\n",
      "|             Lambeth|     2164.0|     4.53|\n",
      "|Barking and Dagenham|     1109.0|     2.32|\n",
      "|              Camden|     2216.0|     4.64|\n",
      "|           Greenwich|     1309.0|     2.74|\n",
      "|              Newham|     1872.0|     3.92|\n",
      "|       Tower Hamlets|     1645.0|     3.45|\n",
      "|            Hounslow|     1271.0|     2.66|\n",
      "|              Barnet|     1589.0|     3.33|\n",
      "|              Harrow|      890.0|     1.87|\n",
      "|Kensington and Ch...|     1153.0|     2.42|\n",
      "|           Islington|     1703.0|     3.57|\n",
      "|               Brent|     1618.0|     3.39|\n",
      "|            Haringey|     1621.0|      3.4|\n",
      "|             Bromley|     1212.0|     2.54|\n",
      "|              Merton|      817.0|     1.71|\n",
      "|         Westminster|     3213.0|     6.73|\n",
      "|             Hackney|     1582.0|     3.32|\n",
      "+--------------------+-----------+---------+\n",
      "only showing top 20 rows\n",
      "\n"
     ]
    }
   ],
   "source": [
    "borough_percentage_contribution.show()"
   ]
  },
  {
   "cell_type": "code",
   "execution_count": 58,
   "metadata": {},
   "outputs": [
    {
     "name": "stdout",
     "output_type": "stream",
     "text": [
      "+--------------+-----------+---------+\n",
      "|       borough|convictions|% contrib|\n",
      "+--------------+-----------+---------+\n",
      "|   Westminster|     3213.0|     6.73|\n",
      "|        Camden|     2216.0|     4.64|\n",
      "|       Lambeth|     2164.0|     4.53|\n",
      "|     Southwark|     2129.0|     4.46|\n",
      "|       Croydon|     2062.0|     4.32|\n",
      "|        Newham|     1872.0|     3.92|\n",
      "|        Ealing|     1855.0|     3.89|\n",
      "|    Wandsworth|     1711.0|     3.59|\n",
      "|     Islington|     1703.0|     3.57|\n",
      "|    Hillingdon|     1695.0|     3.55|\n",
      "| Tower Hamlets|     1645.0|     3.45|\n",
      "|      Haringey|     1621.0|      3.4|\n",
      "|         Brent|     1618.0|     3.39|\n",
      "|      Lewisham|     1620.0|     3.39|\n",
      "|        Barnet|     1589.0|     3.33|\n",
      "|       Hackney|     1582.0|     3.32|\n",
      "|Waltham Forest|     1550.0|     3.25|\n",
      "|       Enfield|     1457.0|     3.05|\n",
      "|     Redbridge|     1395.0|     2.92|\n",
      "|     Greenwich|     1309.0|     2.74|\n",
      "+--------------+-----------+---------+\n",
      "only showing top 20 rows\n",
      "\n"
     ]
    }
   ],
   "source": [
    "borough_percentage_contribution.orderBy(borough_percentage_contribution[2].desc()).show()"
   ]
  },
  {
   "cell_type": "code",
   "execution_count": 59,
   "metadata": {},
   "outputs": [],
   "source": [
    "convinction_monthly_2014 = data.filter(data['year'] == 2014).groupBy('month').agg({\"value\":\"sum\"}).withColumnRenamed(\"sum(value)\", \"convictions\")"
   ]
  },
  {
   "cell_type": "code",
   "execution_count": 60,
   "metadata": {},
   "outputs": [
    {
     "name": "stdout",
     "output_type": "stream",
     "text": [
      "+-----+-----------+\n",
      "|month|convictions|\n",
      "+-----+-----------+\n",
      "|    7|      549.0|\n",
      "|   11|      375.0|\n",
      "|    3|      412.0|\n",
      "|    8|      430.0|\n",
      "|    5|      384.0|\n",
      "|    6|      408.0|\n",
      "|    9|      362.0|\n",
      "|    1|      426.0|\n",
      "|   10|      377.0|\n",
      "|    4|      420.0|\n",
      "|   12|      393.0|\n",
      "|    2|      392.0|\n",
      "+-----+-----------+\n",
      "\n"
     ]
    }
   ],
   "source": [
    "convinction_monthly_2014.show()"
   ]
  },
  {
   "cell_type": "code",
   "execution_count": 64,
   "metadata": {},
   "outputs": [],
   "source": [
    "total_convinction_2014 = convinction_monthly_2014.agg({'convictions':'sum'}).collect()[0][0]"
   ]
  },
  {
   "cell_type": "code",
   "execution_count": 65,
   "metadata": {},
   "outputs": [],
   "source": [
    "total_convinction_montly_2014 = convinction_monthly_2014.withColumn(\"percent\", func.round(convinction_monthly_2014.convictions/total_convinction_2014 * 100, 2))"
   ]
  },
  {
   "cell_type": "code",
   "execution_count": 66,
   "metadata": {},
   "outputs": [
    {
     "name": "stdout",
     "output_type": "stream",
     "text": [
      "+-----+-----------+-------+\n",
      "|month|convictions|percent|\n",
      "+-----+-----------+-------+\n",
      "|    7|      549.0|  11.14|\n",
      "|   11|      375.0|   7.61|\n",
      "|    3|      412.0|   8.36|\n",
      "|    8|      430.0|   8.73|\n",
      "|    5|      384.0|   7.79|\n",
      "|    6|      408.0|   8.28|\n",
      "|    9|      362.0|   7.35|\n",
      "|    1|      426.0|   8.64|\n",
      "|   10|      377.0|   7.65|\n",
      "|    4|      420.0|   8.52|\n",
      "|   12|      393.0|   7.97|\n",
      "|    2|      392.0|   7.95|\n",
      "+-----+-----------+-------+\n",
      "\n"
     ]
    }
   ],
   "source": [
    "total_convinction_montly_2014.show()"
   ]
  },
  {
   "cell_type": "code",
   "execution_count": 67,
   "metadata": {},
   "outputs": [
    {
     "name": "stdout",
     "output_type": "stream",
     "text": [
      "+-----+-----------+-------+\n",
      "|month|convictions|percent|\n",
      "+-----+-----------+-------+\n",
      "|    7|      549.0|  11.14|\n",
      "|   11|      375.0|   7.61|\n",
      "|    3|      412.0|   8.36|\n",
      "|    8|      430.0|   8.73|\n",
      "|    5|      384.0|   7.79|\n",
      "|    6|      408.0|   8.28|\n",
      "|    9|      362.0|   7.35|\n",
      "|    1|      426.0|   8.64|\n",
      "|   10|      377.0|   7.65|\n",
      "|    4|      420.0|   8.52|\n",
      "|   12|      393.0|   7.97|\n",
      "|    2|      392.0|   7.95|\n",
      "+-----+-----------+-------+\n",
      "\n"
     ]
    }
   ],
   "source": [
    "total_convinction_montly_2014.show(12)"
   ]
  },
  {
   "cell_type": "code",
   "execution_count": 69,
   "metadata": {},
   "outputs": [
    {
     "name": "stdout",
     "output_type": "stream",
     "text": [
      "+-----+-----------+-------+\n",
      "|month|convictions|percent|\n",
      "+-----+-----------+-------+\n",
      "|    7|      549.0|  11.14|\n",
      "|    8|      430.0|   8.73|\n",
      "|    1|      426.0|   8.64|\n",
      "|    4|      420.0|   8.52|\n",
      "|    3|      412.0|   8.36|\n",
      "|    6|      408.0|   8.28|\n",
      "|   12|      393.0|   7.97|\n",
      "|    2|      392.0|   7.95|\n",
      "|    5|      384.0|   7.79|\n",
      "|   10|      377.0|   7.65|\n",
      "|   11|      375.0|   7.61|\n",
      "|    9|      362.0|   7.35|\n",
      "+-----+-----------+-------+\n",
      "\n"
     ]
    }
   ],
   "source": [
    "total_convinction_montly_2014.orderBy(total_convinction_montly_2014.convictions.desc()).show()"
   ]
  },
  {
   "cell_type": "code",
   "execution_count": 70,
   "metadata": {},
   "outputs": [
    {
     "name": "stdout",
     "output_type": "stream",
     "text": [
      "+--------------------+--------------------+--------------------+-----+----+-----+\n",
      "|             borough|      major_category|      minor_category|value|year|month|\n",
      "+--------------------+--------------------+--------------------+-----+----+-----+\n",
      "|             Croydon|            Burglary|Burglary in Other...|    0|2016|   11|\n",
      "|           Greenwich|Violence Against ...|      Other violence|    0|2016|   11|\n",
      "|             Bromley|Violence Against ...|      Other violence|    0|2015|    5|\n",
      "|           Redbridge|            Burglary|Burglary in Other...|    0|2016|    3|\n",
      "|          Wandsworth|             Robbery|   Personal Property|    0|2008|    6|\n",
      "|              Ealing|  Theft and Handling|         Other Theft|    0|2012|    5|\n",
      "|              Ealing|Violence Against ...|    Offensive Weapon|    0|2010|    7|\n",
      "|            Hounslow|             Robbery|   Personal Property|    0|2013|    4|\n",
      "|              Newham|     Criminal Damage|Criminal Damage T...|    0|2013|    9|\n",
      "|              Sutton|  Theft and Handling|Theft/Taking of P...|    1|2016|    8|\n",
      "|            Haringey|  Theft and Handling|Motor Vehicle Int...|    0|2013|   12|\n",
      "|             Lambeth|Violence Against ...|      Other violence|    0|2015|    4|\n",
      "|Richmond upon Thames|             Robbery|   Personal Property|    0|2014|    1|\n",
      "|          Wandsworth|Violence Against ...|    Offensive Weapon|    0|2011|   10|\n",
      "|          Hillingdon|  Theft and Handling|Theft/Taking Of M...|    0|2016|    2|\n",
      "|            Havering|Violence Against ...|        Wounding/GBH|    0|2012|    2|\n",
      "|Barking and Dagenham|  Theft and Handling|  Other Theft Person|    1|2009|    5|\n",
      "|           Redbridge|Violence Against ...|      Common Assault|    0|2009|    6|\n",
      "|Kingston upon Thames|  Theft and Handling|    Theft From Shops|    0|2016|   11|\n",
      "|              Sutton|               Drugs| Possession Of Drugs|    0|2009|   10|\n",
      "+--------------------+--------------------+--------------------+-----+----+-----+\n",
      "only showing top 20 rows\n",
      "\n"
     ]
    }
   ],
   "source": [
    "data.show()"
   ]
  },
  {
   "cell_type": "code",
   "execution_count": 71,
   "metadata": {},
   "outputs": [],
   "source": [
    "crimes_category = data.groupBy('major_category').agg({'value':'sum'}).withColumnRenamed('sum(value)', 'convictions')"
   ]
  },
  {
   "cell_type": "code",
   "execution_count": 72,
   "metadata": {},
   "outputs": [
    {
     "name": "stdout",
     "output_type": "stream",
     "text": [
      "+--------------------+-----------+\n",
      "|      major_category|convictions|\n",
      "+--------------------+-----------+\n",
      "|               Drugs|     3667.0|\n",
      "|             Robbery|     1907.0|\n",
      "|  Theft and Handling|    19433.0|\n",
      "|    Fraud or Forgery|       34.0|\n",
      "|Violence Against ...|    11528.0|\n",
      "|            Burglary|     5764.0|\n",
      "|Other Notifiable ...|      797.0|\n",
      "|     Sexual Offences|        9.0|\n",
      "|     Criminal Damage|     4582.0|\n",
      "+--------------------+-----------+\n",
      "\n"
     ]
    }
   ],
   "source": [
    "crimes_category.show()"
   ]
  },
  {
   "cell_type": "code",
   "execution_count": 73,
   "metadata": {},
   "outputs": [
    {
     "name": "stdout",
     "output_type": "stream",
     "text": [
      "+--------------------+-----------+\n",
      "|      major_category|convictions|\n",
      "+--------------------+-----------+\n",
      "|  Theft and Handling|    19433.0|\n",
      "|Violence Against ...|    11528.0|\n",
      "|            Burglary|     5764.0|\n",
      "|     Criminal Damage|     4582.0|\n",
      "|               Drugs|     3667.0|\n",
      "|             Robbery|     1907.0|\n",
      "|Other Notifiable ...|      797.0|\n",
      "|    Fraud or Forgery|       34.0|\n",
      "|     Sexual Offences|        9.0|\n",
      "+--------------------+-----------+\n",
      "\n"
     ]
    }
   ],
   "source": [
    "crimes_category.orderBy(crimes_category.convictions.desc()).show()"
   ]
  },
  {
   "cell_type": "code",
   "execution_count": 74,
   "metadata": {},
   "outputs": [
    {
     "name": "stdout",
     "output_type": "stream",
     "text": [
      "+---------+\n",
      "|min(year)|\n",
      "+---------+\n",
      "|     2008|\n",
      "+---------+\n",
      "\n"
     ]
    }
   ],
   "source": [
    "data.select('year').agg({'year':'min'}).show()"
   ]
  },
  {
   "cell_type": "code",
   "execution_count": 75,
   "metadata": {},
   "outputs": [
    {
     "name": "stdout",
     "output_type": "stream",
     "text": [
      "+---------+\n",
      "|min(year)|\n",
      "+---------+\n",
      "|     2008|\n",
      "+---------+\n",
      "\n"
     ]
    }
   ],
   "source": [
    "data.agg({'year':'min'}).show()"
   ]
  },
  {
   "cell_type": "code",
   "execution_count": 76,
   "metadata": {},
   "outputs": [
    {
     "name": "stdout",
     "output_type": "stream",
     "text": [
      "+---------+\n",
      "|max(year)|\n",
      "+---------+\n",
      "|     2016|\n",
      "+---------+\n",
      "\n"
     ]
    }
   ],
   "source": [
    "data.select('year').agg({'year':'max'}).show()"
   ]
  },
  {
   "cell_type": "code",
   "execution_count": 77,
   "metadata": {},
   "outputs": [
    {
     "name": "stdout",
     "output_type": "stream",
     "text": [
      "+-------+--------------------+--------------------+-------------------+-------------------+------------------+-----------------+\n",
      "|summary|             borough|      major_category|     minor_category|              value|              year|            month|\n",
      "+-------+--------------------+--------------------+-------------------+-------------------+------------------+-----------------+\n",
      "|  count|               99999|               99999|              99999|              99999|             99999|            99999|\n",
      "|   mean|                null|                null|               null|0.47721477214772146|2011.9863498634986|6.475684756847569|\n",
      "| stddev|                null|                null|               null| 1.6523719149278437|2.5828312170907957|3.443864613908665|\n",
      "|    min|Barking and Dagenham|            Burglary|Assault with Injury|                  0|              2008|                1|\n",
      "|    max|         Westminster|Violence Against ...|       Wounding/GBH|                  9|              2016|                9|\n",
      "+-------+--------------------+--------------------+-------------------+-------------------+------------------+-----------------+\n",
      "\n"
     ]
    }
   ],
   "source": [
    "data.describe().show()"
   ]
  },
  {
   "cell_type": "code",
   "execution_count": 78,
   "metadata": {},
   "outputs": [
    {
     "name": "stdout",
     "output_type": "stream",
     "text": [
      "+-------+------------------+\n",
      "|summary|              year|\n",
      "+-------+------------------+\n",
      "|  count|             99999|\n",
      "|   mean|2011.9863498634986|\n",
      "| stddev|2.5828312170907957|\n",
      "|    min|              2008|\n",
      "|    max|              2016|\n",
      "+-------+------------------+\n",
      "\n"
     ]
    }
   ],
   "source": [
    "data.select('year').describe().show()"
   ]
  },
  {
   "cell_type": "code",
   "execution_count": 80,
   "metadata": {},
   "outputs": [
    {
     "name": "stdout",
     "output_type": "stream",
     "text": [
      "+----------------------+--------+-----+-------+\n",
      "|borough_major_category|Burglary|Drugs|Robbery|\n",
      "+----------------------+--------+-----+-------+\n",
      "|              Havering|     248|  244|    218|\n",
      "|                Merton|     198|  244|    181|\n",
      "|              Haringey|     228|  276|    196|\n",
      "|         Tower Hamlets|     206|  290|    209|\n",
      "|               Bromley|     313|  306|    275|\n",
      "|               Enfield|     294|  334|    272|\n",
      "|  Kingston upon Thames|     143|  167|    126|\n",
      "|           Westminster|     201|  248|    188|\n",
      "|  Richmond upon Thames|     169|  154|    133|\n",
      "|              Lewisham|     269|  326|    236|\n",
      "|                 Brent|     276|  368|    263|\n",
      "|  Barking and Dagenham|     187|  202|    193|\n",
      "|             Redbridge|     263|  254|    226|\n",
      "|             Islington|     210|  242|    168|\n",
      "|               Hackney|     240|  308|    245|\n",
      "|                Newham|     250|  322|    257|\n",
      "|        City of London|       9|    7|      5|\n",
      "|                Sutton|     198|  202|    164|\n",
      "|             Southwark|     279|  332|    255|\n",
      "|                Harrow|     228|  235|    153|\n",
      "+----------------------+--------+-----+-------+\n",
      "only showing top 20 rows\n",
      "\n"
     ]
    }
   ],
   "source": [
    "data.crosstab('borough', 'major_category').select('borough_major_category', 'Burglary', 'Drugs', 'Robbery').show()"
   ]
  },
  {
   "cell_type": "code",
   "execution_count": 82,
   "metadata": {},
   "outputs": [],
   "source": [
    "get_ipython().magic('matplotlib inline')\n",
    "import matplotlib.pyplot as plt\n",
    "plt.style.use('ggplot')"
   ]
  },
  {
   "cell_type": "code",
   "execution_count": null,
   "metadata": {},
   "outputs": [],
   "source": [
    "def describe_year(year):\n",
    "    yearly_details = data.filter(data.year == year).groupBy('borough').agg({'value':'sum'}).withColumnRenamed(\"sum(value)\",\"convictions\")\n",
    "\n",
    "    borough_list = [x[0] for x in yearly_details.toLocalIterator()]\n",
    "    convictions_list = [x[1] for x in yearly_details.toLocalIterator()]\n",
    "\n",
    "    plt.figure(figsize=(33, 10))\n",
    "    plt.bar(borough_list, convictions_list)\n",
    "\n",
    "    plt.title('Crime for the year: ' + year, fontsize=30)\n",
    "    plt.xlabel('Boroughs',fontsize=30)\n",
    "    plt.ylabel('Convictions', fontsize=30)\n",
    "\n",
    "    plt.xticks(rotation=90, fontsize=30)\n",
    "    plt.yticks(fontsize=30)\n",
    "    plt.autoscale()\n",
    "    plt.show()\n"
   ]
  }
 ],
 "metadata": {
  "kernelspec": {
   "display_name": "Python 3",
   "language": "python",
   "name": "python3"
  },
  "language_info": {
   "codemirror_mode": {
    "name": "ipython",
    "version": 3
   },
   "file_extension": ".py",
   "mimetype": "text/x-python",
   "name": "python",
   "nbconvert_exporter": "python",
   "pygments_lexer": "ipython3",
   "version": "3.5.3"
  }
 },
 "nbformat": 4,
 "nbformat_minor": 2
}
