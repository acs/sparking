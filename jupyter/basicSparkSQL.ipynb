{
 "cells": [
  {
   "cell_type": "code",
   "execution_count": 2,
   "metadata": {},
   "outputs": [],
   "source": [
    "import findspark\n",
    "findspark.init()\n",
    "\n",
    "from pyspark.sql import SparkSession\n",
    "\n",
    "spark = SparkSession.builder.appName(\"Airlines dataset analysis with SQL\")\\\n",
    "                    .getOrCreate()\n",
    "\n",
    "from pyspark.sql.types import Row\n",
    "from datetime import datetime\n",
    "\n",
    "sc = spark.sparkContext"
   ]
  },
  {
   "cell_type": "code",
   "execution_count": 3,
   "metadata": {},
   "outputs": [],
   "source": [
    "record = sc.parallelize([Row(id = 1,\n",
    "                             name = \"Jill\",\n",
    "                             active = True,\n",
    "                             clubs = ['chess', 'hockey'],\n",
    "                             subjects = {\"math\": 80, 'english': 56},\n",
    "                             enrolled = datetime(2014, 8, 1, 14, 1, 5)),\n",
    "                         Row(id = 2,\n",
    "                             name = \"George\",\n",
    "                             active = False,\n",
    "                             clubs = ['chess', 'soccer'],\n",
    "                             subjects = {\"math\": 60, 'english': 96},\n",
    "                             enrolled = datetime(2015, 3, 21, 8, 2, 5))\n",
    "])"
   ]
  },
  {
   "cell_type": "code",
   "execution_count": 4,
   "metadata": {},
   "outputs": [
    {
     "name": "stdout",
     "output_type": "stream",
     "text": [
      "+------+---------------+-------------------+---+------+--------------------+\n",
      "|active|          clubs|           enrolled| id|  name|            subjects|\n",
      "+------+---------------+-------------------+---+------+--------------------+\n",
      "|  true|[chess, hockey]|2014-08-01 14:01:05|  1|  Jill|[english -> 56, m...|\n",
      "| false|[chess, soccer]|2015-03-21 08:02:05|  2|George|[english -> 96, m...|\n",
      "+------+---------------+-------------------+---+------+--------------------+\n",
      "\n"
     ]
    }
   ],
   "source": [
    "record_df = record.toDF()\n",
    "record_df.show()"
   ]
  },
  {
   "cell_type": "code",
   "execution_count": 5,
   "metadata": {},
   "outputs": [],
   "source": [
    "record_df.createOrReplaceTempView(\"records\")"
   ]
  },
  {
   "cell_type": "code",
   "execution_count": 6,
   "metadata": {},
   "outputs": [],
   "source": [
    "all_records_df = spark.sql('SELECT * FROM records')"
   ]
  },
  {
   "cell_type": "code",
   "execution_count": 7,
   "metadata": {},
   "outputs": [
    {
     "name": "stdout",
     "output_type": "stream",
     "text": [
      "+------+---------------+-------------------+---+------+--------------------+\n",
      "|active|          clubs|           enrolled| id|  name|            subjects|\n",
      "+------+---------------+-------------------+---+------+--------------------+\n",
      "|  true|[chess, hockey]|2014-08-01 14:01:05|  1|  Jill|[english -> 56, m...|\n",
      "| false|[chess, soccer]|2015-03-21 08:02:05|  2|George|[english -> 96, m...|\n",
      "+------+---------------+-------------------+---+------+--------------------+\n",
      "\n"
     ]
    }
   ],
   "source": [
    "all_records_df.show()"
   ]
  },
  {
   "cell_type": "code",
   "execution_count": 8,
   "metadata": {},
   "outputs": [
    {
     "name": "stdout",
     "output_type": "stream",
     "text": [
      "+---+--------+-----------------+\n",
      "| id|clubs[1]|subjects[english]|\n",
      "+---+--------+-----------------+\n",
      "|  1|  hockey|               56|\n",
      "|  2|  soccer|               96|\n",
      "+---+--------+-----------------+\n",
      "\n"
     ]
    }
   ],
   "source": [
    "spark.sql('SELECT id, clubs[1], subjects[\"english\"] FROM records').show()"
   ]
  },
  {
   "cell_type": "code",
   "execution_count": 10,
   "metadata": {},
   "outputs": [
    {
     "name": "stdout",
     "output_type": "stream",
     "text": [
      "+------+---------------+-------------------+---+----+--------------------+\n",
      "|active|          clubs|           enrolled| id|name|            subjects|\n",
      "+------+---------------+-------------------+---+----+--------------------+\n",
      "|  true|[chess, hockey]|2014-08-01 14:01:05|  1|Jill|[english -> 56, m...|\n",
      "+------+---------------+-------------------+---+----+--------------------+\n",
      "\n"
     ]
    }
   ],
   "source": [
    "spark.sql('SELECT * FROM records where active').show()"
   ]
  },
  {
   "cell_type": "code",
   "execution_count": 11,
   "metadata": {},
   "outputs": [],
   "source": [
    "record_df.createGlobalTempView(\"global_records\")"
   ]
  },
  {
   "cell_type": "code",
   "execution_count": 14,
   "metadata": {},
   "outputs": [
    {
     "name": "stdout",
     "output_type": "stream",
     "text": [
      "+------+---------------+-------------------+---+----+--------------------+\n",
      "|active|          clubs|           enrolled| id|name|            subjects|\n",
      "+------+---------------+-------------------+---+----+--------------------+\n",
      "|  true|[chess, hockey]|2014-08-01 14:01:05|  1|Jill|[english -> 56, m...|\n",
      "+------+---------------+-------------------+---+----+--------------------+\n",
      "\n"
     ]
    }
   ],
   "source": [
    "spark.sql('SELECT * FROM global_temp.global_records where active').show()"
   ]
  },
  {
   "cell_type": "code",
   "execution_count": null,
   "metadata": {},
   "outputs": [],
   "source": []
  },
  {
   "cell_type": "code",
   "execution_count": null,
   "metadata": {},
   "outputs": [],
   "source": []
  }
 ],
 "metadata": {
  "kernelspec": {
   "display_name": "Python 3",
   "language": "python",
   "name": "python3"
  },
  "language_info": {
   "codemirror_mode": {
    "name": "ipython",
    "version": 3
   },
   "file_extension": ".py",
   "mimetype": "text/x-python",
   "name": "python",
   "nbconvert_exporter": "python",
   "pygments_lexer": "ipython3",
   "version": "3.5.3"
  }
 },
 "nbformat": 4,
 "nbformat_minor": 2
}
