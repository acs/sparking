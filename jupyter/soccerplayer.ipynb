{
 "cells": [
  {
   "cell_type": "code",
   "execution_count": 1,
   "metadata": {},
   "outputs": [],
   "source": [
    "# https://goo.gl/seiSek\n",
    "import findspark\n",
    "findspark.init()\n",
    "\n",
    "from pyspark.sql import SparkSession\n",
    "\n",
    "spark = SparkSession.builder.appName(\"FIFA Players joins\")\\\n",
    "                    .getOrCreate()"
   ]
  },
  {
   "cell_type": "code",
   "execution_count": 8,
   "metadata": {},
   "outputs": [],
   "source": [
    "player = spark.read\\\n",
    "            .format(\"csv\")\\\n",
    "            .option(\"header\", \"true\")\\\n",
    "            .load(\"datasets/player.csv\")"
   ]
  },
  {
   "cell_type": "code",
   "execution_count": 9,
   "metadata": {},
   "outputs": [
    {
     "name": "stdout",
     "output_type": "stream",
     "text": [
      "root\n",
      " |-- id: string (nullable = true)\n",
      " |-- player_api_id: string (nullable = true)\n",
      " |-- player_name: string (nullable = true)\n",
      " |-- player_fifa_api_id: string (nullable = true)\n",
      " |-- birthday: string (nullable = true)\n",
      " |-- height: string (nullable = true)\n",
      " |-- weight: string (nullable = true)\n",
      "\n"
     ]
    }
   ],
   "source": [
    "player.printSchema()"
   ]
  },
  {
   "cell_type": "code",
   "execution_count": 10,
   "metadata": {},
   "outputs": [
    {
     "data": {
      "text/plain": [
       "11060"
      ]
     },
     "execution_count": 10,
     "metadata": {},
     "output_type": "execute_result"
    }
   ],
   "source": [
    "player.count()"
   ]
  },
  {
   "cell_type": "code",
   "execution_count": 11,
   "metadata": {},
   "outputs": [
    {
     "data": {
      "text/plain": [
       "DataFrame[summary: string, id: string, player_api_id: string, player_name: string, player_fifa_api_id: string, birthday: string, height: string, weight: string]"
      ]
     },
     "execution_count": 11,
     "metadata": {},
     "output_type": "execute_result"
    }
   ],
   "source": [
    "player.describe()"
   ]
  },
  {
   "cell_type": "code",
   "execution_count": 12,
   "metadata": {},
   "outputs": [
    {
     "name": "stdout",
     "output_type": "stream",
     "text": [
      "+---+-------------+------------------+------------------+-------------------+------+------+\n",
      "| id|player_api_id|       player_name|player_fifa_api_id|           birthday|height|weight|\n",
      "+---+-------------+------------------+------------------+-------------------+------+------+\n",
      "|  1|       505942|Aaron Appindangoye|            218353|1992-02-29 00:00:00|182.88|   187|\n",
      "|  2|       155782|   Aaron Cresswell|            189615|1989-12-15 00:00:00|170.18|   146|\n",
      "|  3|       162549|       Aaron Doran|            186170|1991-05-13 00:00:00|170.18|   163|\n",
      "|  4|        30572|     Aaron Galindo|            140161|1982-05-08 00:00:00|182.88|   198|\n",
      "|  5|        23780|      Aaron Hughes|             17725|1979-11-08 00:00:00|182.88|   154|\n",
      "+---+-------------+------------------+------------------+-------------------+------+------+\n",
      "only showing top 5 rows\n",
      "\n"
     ]
    }
   ],
   "source": [
    "player.show(5)"
   ]
  },
  {
   "cell_type": "code",
   "execution_count": 17,
   "metadata": {},
   "outputs": [],
   "source": [
    "player_attributes = spark.read\\\n",
    "            .format(\"csv\")\\\n",
    "            .option(\"header\", \"true\")\\\n",
    "            .load(\"datasets/player_attributes.csv\")"
   ]
  },
  {
   "cell_type": "code",
   "execution_count": 18,
   "metadata": {},
   "outputs": [
    {
     "name": "stdout",
     "output_type": "stream",
     "text": [
      "root\n",
      " |-- id: string (nullable = true)\n",
      " |-- player_fifa_api_id: string (nullable = true)\n",
      " |-- player_api_id: string (nullable = true)\n",
      " |-- date: string (nullable = true)\n",
      " |-- overall_rating: string (nullable = true)\n",
      " |-- potential: string (nullable = true)\n",
      " |-- preferred_foot: string (nullable = true)\n",
      " |-- attacking_work_rate: string (nullable = true)\n",
      " |-- defensive_work_rate: string (nullable = true)\n",
      " |-- crossing: string (nullable = true)\n",
      " |-- finishing: string (nullable = true)\n",
      " |-- heading_accuracy: string (nullable = true)\n",
      " |-- short_passing: string (nullable = true)\n",
      " |-- volleys: string (nullable = true)\n",
      " |-- dribbling: string (nullable = true)\n",
      " |-- curve: string (nullable = true)\n",
      " |-- free_kick_accuracy: string (nullable = true)\n",
      " |-- long_passing: string (nullable = true)\n",
      " |-- ball_control: string (nullable = true)\n",
      " |-- acceleration: string (nullable = true)\n",
      " |-- sprint_speed: string (nullable = true)\n",
      " |-- agility: string (nullable = true)\n",
      " |-- reactions: string (nullable = true)\n",
      " |-- balance: string (nullable = true)\n",
      " |-- shot_power: string (nullable = true)\n",
      " |-- jumping: string (nullable = true)\n",
      " |-- stamina: string (nullable = true)\n",
      " |-- strength: string (nullable = true)\n",
      " |-- long_shots: string (nullable = true)\n",
      " |-- aggression: string (nullable = true)\n",
      " |-- interceptions: string (nullable = true)\n",
      " |-- positioning: string (nullable = true)\n",
      " |-- vision: string (nullable = true)\n",
      " |-- penalties: string (nullable = true)\n",
      " |-- marking: string (nullable = true)\n",
      " |-- standing_tackle: string (nullable = true)\n",
      " |-- sliding_tackle: string (nullable = true)\n",
      " |-- gk_diving: string (nullable = true)\n",
      " |-- gk_handling: string (nullable = true)\n",
      " |-- gk_kicking: string (nullable = true)\n",
      " |-- gk_positioning: string (nullable = true)\n",
      " |-- gk_reflexes: string (nullable = true)\n",
      "\n"
     ]
    }
   ],
   "source": [
    "player_attributes.printSchema()"
   ]
  },
  {
   "cell_type": "code",
   "execution_count": 19,
   "metadata": {},
   "outputs": [
    {
     "data": {
      "text/plain": [
       "183978"
      ]
     },
     "execution_count": 19,
     "metadata": {},
     "output_type": "execute_result"
    }
   ],
   "source": [
    "player_attributes.count()"
   ]
  },
  {
   "cell_type": "code",
   "execution_count": 24,
   "metadata": {},
   "outputs": [
    {
     "data": {
      "text/plain": [
       "11060"
      ]
     },
     "execution_count": 24,
     "metadata": {},
     "output_type": "execute_result"
    }
   ],
   "source": [
    "player_attributes.select(\"player_api_id\").distinct().count()"
   ]
  },
  {
   "cell_type": "code",
   "execution_count": 23,
   "metadata": {},
   "outputs": [
    {
     "data": {
      "text/plain": [
       "11060"
      ]
     },
     "execution_count": 23,
     "metadata": {},
     "output_type": "execute_result"
    }
   ],
   "source": [
    "player.count()"
   ]
  },
  {
   "cell_type": "code",
   "execution_count": 25,
   "metadata": {},
   "outputs": [
    {
     "data": {
      "text/plain": [
       "11062"
      ]
     },
     "execution_count": 25,
     "metadata": {},
     "output_type": "execute_result"
    }
   ],
   "source": [
    "# 2 strange rows in player_fifa_api_id\n",
    "player_attributes.select(\"player_fifa_api_id\").distinct().count()"
   ]
  },
  {
   "cell_type": "code",
   "execution_count": 27,
   "metadata": {},
   "outputs": [
    {
     "data": {
      "text/plain": [
       "DataFrame[player_api_id: string, player_name: string, birthday: string, height: string, weight: string]"
      ]
     },
     "execution_count": 27,
     "metadata": {},
     "output_type": "execute_result"
    }
   ],
   "source": [
    "player.drop('id','player_fifa_api_id')"
   ]
  },
  {
   "cell_type": "code",
   "execution_count": 28,
   "metadata": {},
   "outputs": [],
   "source": [
    "player_attributes = player_attributes.drop(\n",
    "    'id',\n",
    "    'player_fifa_api_id',\n",
    "    'preferred_foot',\n",
    "    'attacking_work_rate',\n",
    "    'defensive_work_rate',\n",
    "    'crossing',\n",
    "    'jumping',\n",
    "    'sprint_speed',\n",
    "    'balance',\n",
    "    'aggression',\n",
    "    'short_passing',\n",
    "    'potential'\n",
    ")"
   ]
  },
  {
   "cell_type": "code",
   "execution_count": 29,
   "metadata": {},
   "outputs": [],
   "source": [
    "player_attributes = player_attributes.dropna()\n",
    "players = players.dropna()"
   ]
  },
  {
   "cell_type": "code",
   "execution_count": 30,
   "metadata": {},
   "outputs": [],
   "source": [
    "from pyspark.sql.functions import udf"
   ]
  },
  {
   "cell_type": "code",
   "execution_count": 31,
   "metadata": {},
   "outputs": [],
   "source": [
    "year_extract_udf = udf(lambda date: date.split('-')[0])"
   ]
  },
  {
   "cell_type": "code",
   "execution_count": 32,
   "metadata": {},
   "outputs": [],
   "source": [
    "player_attributes = player_attributes.withColumn('year', year_extract_udf(player_attributes.date))"
   ]
  },
  {
   "cell_type": "code",
   "execution_count": 34,
   "metadata": {},
   "outputs": [
    {
     "name": "stdout",
     "output_type": "stream",
     "text": [
      "+----+\n",
      "|year|\n",
      "+----+\n",
      "|2016|\n",
      "|2015|\n",
      "|2015|\n",
      "|2015|\n",
      "|2007|\n",
      "+----+\n",
      "only showing top 5 rows\n",
      "\n"
     ]
    }
   ],
   "source": [
    "player_attributes.select('year').show(5)"
   ]
  },
  {
   "cell_type": "code",
   "execution_count": 35,
   "metadata": {},
   "outputs": [
    {
     "data": {
      "text/plain": [
       "DataFrame[player_api_id: string, overall_rating: string, finishing: string, heading_accuracy: string, volleys: string, dribbling: string, curve: string, free_kick_accuracy: string, long_passing: string, ball_control: string, acceleration: string, agility: string, reactions: string, shot_power: string, stamina: string, strength: string, long_shots: string, interceptions: string, positioning: string, vision: string, penalties: string, marking: string, standing_tackle: string, sliding_tackle: string, gk_diving: string, gk_handling: string, gk_kicking: string, gk_positioning: string, gk_reflexes: string, year: string]"
      ]
     },
     "execution_count": 35,
     "metadata": {},
     "output_type": "execute_result"
    }
   ],
   "source": [
    "player_attributes.drop('date')"
   ]
  },
  {
   "cell_type": "code",
   "execution_count": 39,
   "metadata": {},
   "outputs": [
    {
     "name": "stdout",
     "output_type": "stream",
     "text": [
      "+---+-------------+--------------+------------------+-------------------+------+------+\n",
      "| id|player_api_id|   player_name|player_fifa_api_id|           birthday|height|weight|\n",
      "+---+-------------+--------------+------------------+-------------------+------+------+\n",
      "|742|        30955|Andres Iniesta|                41|1984-05-11 00:00:00|170.18|   150|\n",
      "+---+-------------+--------------+------------------+-------------------+------+------+\n",
      "\n"
     ]
    }
   ],
   "source": [
    "player.filter(player['player_name'].contains('Iniesta')).show()"
   ]
  },
  {
   "cell_type": "code",
   "execution_count": 40,
   "metadata": {},
   "outputs": [
    {
     "name": "stdout",
     "output_type": "stream",
     "text": [
      "+-------------+-----------------+-----------------+---------------+\n",
      "|player_api_id|   avg(finishing)|avg(acceleration)|avg(shot_power)|\n",
      "+-------------+-----------------+-----------------+---------------+\n",
      "|       309726|75.44444444444444|74.11111111111111|           76.0|\n",
      "|        26112|             53.0|             51.0|           76.0|\n",
      "|        38433|            68.25|             74.0|           74.0|\n",
      "|       295060|             25.0|             62.0|           40.0|\n",
      "|       161396|             29.0|             72.0|           69.0|\n",
      "+-------------+-----------------+-----------------+---------------+\n",
      "only showing top 5 rows\n",
      "\n"
     ]
    }
   ],
   "source": [
    "# #### Filter to get all players who were active in the year 2016\n",
    "\n",
    "# In[17]:\n",
    "\n",
    "\n",
    "pa_2016 = player_attributes.filter(player_attributes.year == 2016)\n",
    "\n",
    "\n",
    "# In[18]:\n",
    "\n",
    "\n",
    "pa_2016.count()\n",
    "\n",
    "\n",
    "# In[19]:\n",
    "\n",
    "\n",
    "pa_2016.select(pa_2016.player_api_id)       .distinct()       .count()\n",
    "\n",
    "\n",
    "# #### Find the best striker in the year 2016\n",
    "# \n",
    "# * Consider the scores for finishing, shot_power and acceleration to determine this\n",
    "# * There can be more than one entry for a player in the year (multiple seasons, some teams make entries per quarter)\n",
    "# * Find the average scores across the multiple records\n",
    "\n",
    "# In[20]:\n",
    "\n",
    "\n",
    "pa_striker_2016 = pa_2016.groupBy('player_api_id').agg({\n",
    "                           'finishing':\"avg\",\n",
    "                           \"shot_power\":\"avg\",\n",
    "                           \"acceleration\":\"avg\"\n",
    "                       })\n",
    "# In[21]:\n",
    "\n",
    "\n",
    "pa_striker_2016.count()\n",
    "\n",
    "\n",
    "# In[22]:\n",
    "\n",
    "\n",
    "pa_striker_2016.show(5)\n",
    "\n",
    "\n",
    "# In[23]:\n",
    "\n",
    "\n",
    "pa_striker_2016 = pa_striker_2016.withColumnRenamed(\"avg(finishing)\",\"finishing\")\\\n",
    "                  .withColumnRenamed(\"avg(shot_power)\",\"shot_power\")\\\n",
    "                  .withColumnRenamed(\"avg(acceleration)\",\"acceleration\")\n",
    "\n",
    "\n"
   ]
  },
  {
   "cell_type": "code",
   "execution_count": 41,
   "metadata": {},
   "outputs": [
    {
     "name": "stdout",
     "output_type": "stream",
     "text": [
      "+-------------+-----------------+\n",
      "|player_api_id|    striker_grade|\n",
      "+-------------+-----------------+\n",
      "|        20276|            89.25|\n",
      "|        37412|             89.0|\n",
      "|        38817|            88.75|\n",
      "|        32118|            88.25|\n",
      "|        31921|             87.0|\n",
      "|        30834|            86.75|\n",
      "|       303824|85.10714285714286|\n",
      "|       129944|             85.0|\n",
      "|       158263|            84.75|\n",
      "|       150565|            84.75|\n",
      "+-------------+-----------------+\n",
      "only showing top 10 rows\n",
      "\n"
     ]
    }
   ],
   "source": [
    "# #### Find an aggregate score to represent how good a particular player is\n",
    "# \n",
    "# * Each attribute has a weighing factor\n",
    "# * Find a total score for each striker\n",
    "\n",
    "# In[24]:\n",
    "\n",
    "\n",
    "weight_finishing = 1\n",
    "weight_shot_power = 2\n",
    "weight_acceleration = 1\n",
    "\n",
    "total_weight = weight_finishing + weight_shot_power + weight_acceleration\n",
    "\n",
    "\n",
    "# In[27]:\n",
    "\n",
    "\n",
    "strikers = pa_striker_2016.withColumn(\"striker_grade\",\n",
    "                                      (pa_striker_2016.finishing * weight_finishing + \\\n",
    "                                       pa_striker_2016.shot_power * weight_shot_power+ \\\n",
    "                                       pa_striker_2016.acceleration * weight_acceleration) / total_weight)\n",
    "\n",
    "\n",
    "# In[28]:\n",
    "\n",
    "\n",
    "strikers = strikers.drop('finishing',\n",
    "                         'acceleration',\n",
    "                         'shot_power'\n",
    ")\n",
    "\n",
    "\n",
    "# In[31]:\n",
    "\n",
    "\n",
    "strikers = strikers.filter(strikers.striker_grade > 70)                   .sort(strikers.striker_grade.desc())\n",
    "\n",
    "strikers.show(10)\n"
   ]
  },
  {
   "cell_type": "code",
   "execution_count": 42,
   "metadata": {},
   "outputs": [
    {
     "name": "stdout",
     "output_type": "stream",
     "text": [
      "+-------------+----+--------------+------------------+-------------------+------+------+-------------+\n",
      "|player_api_id|  id|   player_name|player_fifa_api_id|           birthday|height|weight|striker_grade|\n",
      "+-------------+----+--------------+------------------+-------------------+------+------+-------------+\n",
      "|        20276|4283|          Hulk|            189362|1986-07-25 00:00:00|180.34|   187|        89.25|\n",
      "|        37412|9674| Sergio Aguero|            153079|1988-06-02 00:00:00|172.72|   163|         89.0|\n",
      "|        38817|1581|  Carlos Tevez|            143001|1984-02-05 00:00:00|172.72|   157|        88.75|\n",
      "|        32118|6400|Lukas Podolski|            150516|1985-06-04 00:00:00|182.88|   183|        88.25|\n",
      "|        31921|3660|   Gareth Bale|            173731|1989-07-16 00:00:00|182.88|   163|         87.0|\n",
      "+-------------+----+--------------+------------------+-------------------+------+------+-------------+\n",
      "only showing top 5 rows\n",
      "\n"
     ]
    }
   ],
   "source": [
    "# #### Find name and other details of the best strikers\n",
    "# \n",
    "# * The information is present in the *players* dataframe\n",
    "# * Will involve a join operation between *players* and *strikers*\n",
    "\n",
    "# In[33]:\n",
    "\n",
    "\n",
    "strikers.count(), players.count()\n",
    "\n",
    "\n",
    "# #### Joining dataframes\n",
    "\n",
    "# In[35]:\n",
    "\n",
    "\n",
    "striker_details = players.join(strikers, players.player_api_id == strikers.player_api_id)\n",
    "\n",
    "\n",
    "# In[36]:\n",
    "\n",
    "\n",
    "striker_details.columns\n",
    "\n",
    "\n",
    "# In[37]:\n",
    "\n",
    "\n",
    "striker_details.count()\n",
    "\n",
    "\n",
    "# In[38]:\n",
    "\n",
    "\n",
    "striker_details = players.join(strikers, ['player_api_id'])\n",
    "\n",
    "\n",
    "# In[39]:\n",
    "\n",
    "\n",
    "striker_details.show(5)\n"
   ]
  },
  {
   "cell_type": "code",
   "execution_count": null,
   "metadata": {},
   "outputs": [],
   "source": []
  }
 ],
 "metadata": {
  "kernelspec": {
   "display_name": "Python 3",
   "language": "python",
   "name": "python3"
  },
  "language_info": {
   "codemirror_mode": {
    "name": "ipython",
    "version": 3
   },
   "file_extension": ".py",
   "mimetype": "text/x-python",
   "name": "python",
   "nbconvert_exporter": "python",
   "pygments_lexer": "ipython3",
   "version": "3.5.3"
  }
 },
 "nbformat": 4,
 "nbformat_minor": 2
}
